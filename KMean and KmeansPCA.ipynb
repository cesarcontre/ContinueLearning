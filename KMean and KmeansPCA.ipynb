{
 "cells": [
  {
   "cell_type": "code",
   "execution_count": 4,
   "metadata": {},
   "outputs": [],
   "source": [
    "import cv2\n",
    "import numpy as np\n",
    "from sklearn.decomposition import PCA"
   ]
  },
  {
   "attachments": {},
   "cell_type": "markdown",
   "metadata": {},
   "source": [
    "Only K-Means "
   ]
  },
  {
   "cell_type": "code",
   "execution_count": 5,
   "metadata": {},
   "outputs": [
    {
     "data": {
      "text/plain": [
       "True"
      ]
     },
     "execution_count": 5,
     "metadata": {},
     "output_type": "execute_result"
    }
   ],
   "source": [
    "\n",
    "\n",
    "def color_quantization(img, K):\n",
    "    # Reshape the image into a two-dimensional array\n",
    "    pixels = img.reshape(-1, 3)\n",
    "    \n",
    "    # Perform K-means clustering\n",
    "    criteria = (cv2.TERM_CRITERIA_EPS + cv2.TERM_CRITERIA_MAX_ITER, 100, 1.0)\n",
    "    flags = cv2.KMEANS_RANDOM_CENTERS\n",
    "    compactness, labels, centers = cv2.kmeans(pixels.astype(np.float32), K, None, criteria, 10, flags)\n",
    "\n",
    "    # Replace each pixel with its corresponding cluster center\n",
    "    quantized_pixels = centers[labels].reshape(img.shape).astype(np.uint8)\n",
    "    \n",
    "    return quantized_pixels\n",
    "\n",
    "# Load the image\n",
    "img = cv2.imread(\"C:/Users/ccrgo/Downloads/Saint-Basils-Cathedral.jpg\")\n",
    "\n",
    "\n",
    "quantized_img = color_quantization(img, 64)\n",
    "\n",
    "# Save the quantized image\n",
    "cv2.imwrite(\"C:/Users/ccrgo/Downloads/quantized_image.jpg\", quantized_img)\n",
    "\n",
    "\n"
   ]
  },
  {
   "cell_type": "code",
   "execution_count": 6,
   "metadata": {},
   "outputs": [],
   "source": [
    "cv2.imshow(\"quantized_img\",quantized_img)\n",
    "cv2.waitKey(0)\n",
    "cv2.destroyAllWindows()\n"
   ]
  },
  {
   "attachments": {},
   "cell_type": "markdown",
   "metadata": {},
   "source": [
    "K-Means + PCA "
   ]
  },
  {
   "cell_type": "code",
   "execution_count": 7,
   "metadata": {},
   "outputs": [],
   "source": [
    "\n",
    "\n",
    "def color_quantization(img, K):\n",
    "    # Reshape the image into a two-dimensional array\n",
    "    pixels = img.reshape(-1, 3)\n",
    "    \n",
    "    # Perform PCA to reduce the dimensionality of the image using the auto from the PCA model \n",
    "    pca = PCA(svd_solver = 'full')\n",
    "    pca.fit(pixels)\n",
    "    reduced_pixels = pca.transform(pixels)\n",
    "    \n",
    "    # Perform K-means clustering on the reduced data\n",
    "    criteria = (cv2.TERM_CRITERIA_EPS + cv2.TERM_CRITERIA_MAX_ITER, 100, 1.0)\n",
    "    flags = cv2.KMEANS_RANDOM_CENTERS\n",
    "    compactness, labels, centers = cv2.kmeans(reduced_pixels.astype(np.float32), K, None, criteria, 10, flags)\n",
    "\n",
    "    # Replace each pixel with its corresponding cluster center\n",
    "    quantized_pixels = centers[labels].reshape(img.shape).astype(np.uint8)\n",
    "    \n",
    "    return quantized_pixels\n",
    "\n",
    "# Load the image\n",
    "img = cv2.imread(\"C:/Users/ccrgo/Downloads/Saint-Basils-Cathedral.jpg\")\n",
    "\n",
    "\n",
    "out = color_quantization(img, 512)\n",
    "\n",
    "# Save the quantized image\n",
    "cv2.imwrite(\"C:/Users/ccrgo/Downloads/jejetl.jpg\", out)\n"
   ]
  },
  {
   "cell_type": "code",
   "execution_count": null,
   "metadata": {},
   "outputs": [],
   "source": [
    "cv2.imshow(\"quantized_img\",out)\n",
    "cv2.waitKey(0)\n",
    "cv2.destroyAllWindows()"
   ]
  }
 ],
 "metadata": {
  "kernelspec": {
   "display_name": "Python 3",
   "language": "python",
   "name": "python3"
  },
  "language_info": {
   "codemirror_mode": {
    "name": "ipython",
    "version": 3
   },
   "file_extension": ".py",
   "mimetype": "text/x-python",
   "name": "python",
   "nbconvert_exporter": "python",
   "pygments_lexer": "ipython3",
   "version": "3.10.2"
  },
  "orig_nbformat": 4,
  "vscode": {
   "interpreter": {
    "hash": "72933c3157e2c1221732fb8b3debc60aeaed22dae065090527122b5eb1842c1b"
   }
  }
 },
 "nbformat": 4,
 "nbformat_minor": 2
}
