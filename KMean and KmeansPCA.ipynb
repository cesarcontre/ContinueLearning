{
 "cells": [
  {
   "cell_type": "code",
   "execution_count": 11,
   "metadata": {},
   "outputs": [],
   "source": [
    "import cv2\n",
    "import numpy as np\n",
    "from sklearn.decomposition import PCA"
   ]
  },
  {
   "attachments": {},
   "cell_type": "markdown",
   "metadata": {},
   "source": [
    "Only K-Means "
   ]
  },
  {
   "cell_type": "code",
   "execution_count": 16,
   "metadata": {},
   "outputs": [
    {
     "data": {
      "text/plain": [
       "True"
      ]
     },
     "execution_count": 16,
     "metadata": {},
     "output_type": "execute_result"
    }
   ],
   "source": [
    "\n",
    "\n",
    "def color_quantization(img, K):\n",
    "    # Reshape the image into a two-dimensional array\n",
    "    pixels = img.reshape(-1, 3)\n",
    "    \n",
    "    # Perform K-means clustering\n",
    "    criteria = (cv2.TERM_CRITERIA_EPS + cv2.TERM_CRITERIA_MAX_ITER, 100, 1.0)\n",
    "    flags = cv2.KMEANS_RANDOM_CENTERS\n",
    "    compactness, labels, centers = cv2.kmeans(pixels.astype(np.float32), K, None, criteria, 10, flags)\n",
    "\n",
    "    # Replace each pixel with its corresponding cluster center\n",
    "    quantized_pixels = centers[labels].reshape(img.shape).astype(np.uint8)\n",
    "    \n",
    "    return quantized_pixels\n",
    "\n",
    "# Load the image\n",
    "img = cv2.imread(\"C:/Users/ccrgo/Downloads/Saint-Basils-Cathedral.jpg\")\n",
    "\n",
    "\n",
    "quantized_img = color_quantization(img, 64)\n",
    "\n",
    "# Save the quantized image\n",
    "cv2.imwrite(\"C:/Users/ccrgo/Downloads/quantized_image.jpg\", quantized_img)\n"
   ]
  },
  {
   "attachments": {},
   "cell_type": "markdown",
   "metadata": {},
   "source": [
    "K-Means + PCA "
   ]
  },
  {
   "cell_type": "code",
   "execution_count": 25,
   "metadata": {},
   "outputs": [
    {
     "ename": "ValueError",
     "evalue": "n_components=-1 must be between 0 and min(n_samples, n_features)=3 with svd_solver='full'",
     "output_type": "error",
     "traceback": [
      "\u001b[1;31m---------------------------------------------------------------------------\u001b[0m",
      "\u001b[1;31mValueError\u001b[0m                                Traceback (most recent call last)",
      "\u001b[1;32mUntitled-5.ipynb Cell 3\u001b[0m in \u001b[0;36m<module>\u001b[1;34m\u001b[0m\n\u001b[0;32m     <a href='vscode-notebook-cell:Untitled-5.ipynb?jupyter-notebook#W2sdW50aXRsZWQ%3D?line=19'>20</a>\u001b[0m \u001b[39m# Load the image\u001b[39;00m\n\u001b[0;32m     <a href='vscode-notebook-cell:Untitled-5.ipynb?jupyter-notebook#W2sdW50aXRsZWQ%3D?line=20'>21</a>\u001b[0m img \u001b[39m=\u001b[39m cv2\u001b[39m.\u001b[39mimread(\u001b[39m\"\u001b[39m\u001b[39mC:/Users/ccrgo/Downloads/quantized_image.jpg\u001b[39m\u001b[39m\"\u001b[39m)\n\u001b[1;32m---> <a href='vscode-notebook-cell:Untitled-5.ipynb?jupyter-notebook#W2sdW50aXRsZWQ%3D?line=23'>24</a>\u001b[0m out \u001b[39m=\u001b[39m color_quantization(img, \u001b[39m512\u001b[39;49m)\n\u001b[0;32m     <a href='vscode-notebook-cell:Untitled-5.ipynb?jupyter-notebook#W2sdW50aXRsZWQ%3D?line=25'>26</a>\u001b[0m \u001b[39m# Save the quantized image\u001b[39;00m\n\u001b[0;32m     <a href='vscode-notebook-cell:Untitled-5.ipynb?jupyter-notebook#W2sdW50aXRsZWQ%3D?line=26'>27</a>\u001b[0m cv2\u001b[39m.\u001b[39mimwrite(\u001b[39m\"\u001b[39m\u001b[39mC:/Users/ccrgo/Downloads/jejetl.jpg\u001b[39m\u001b[39m\"\u001b[39m, out)\n",
      "\u001b[1;32mUntitled-5.ipynb Cell 3\u001b[0m in \u001b[0;36mcolor_quantization\u001b[1;34m(img, K)\u001b[0m\n\u001b[0;32m      <a href='vscode-notebook-cell:Untitled-5.ipynb?jupyter-notebook#W2sdW50aXRsZWQ%3D?line=4'>5</a>\u001b[0m \u001b[39m# Perform PCA to reduce the dimensionality of the image\u001b[39;00m\n\u001b[0;32m      <a href='vscode-notebook-cell:Untitled-5.ipynb?jupyter-notebook#W2sdW50aXRsZWQ%3D?line=5'>6</a>\u001b[0m pca \u001b[39m=\u001b[39m PCA(n_components\u001b[39m=\u001b[39m\u001b[39m-\u001b[39m\u001b[39m1\u001b[39m,svd_solver \u001b[39m=\u001b[39m \u001b[39m'\u001b[39m\u001b[39mfull\u001b[39m\u001b[39m'\u001b[39m)\n\u001b[1;32m----> <a href='vscode-notebook-cell:Untitled-5.ipynb?jupyter-notebook#W2sdW50aXRsZWQ%3D?line=6'>7</a>\u001b[0m pca\u001b[39m.\u001b[39;49mfit(pixels)\n\u001b[0;32m      <a href='vscode-notebook-cell:Untitled-5.ipynb?jupyter-notebook#W2sdW50aXRsZWQ%3D?line=7'>8</a>\u001b[0m reduced_pixels \u001b[39m=\u001b[39m pca\u001b[39m.\u001b[39mtransform(pixels)\n\u001b[0;32m     <a href='vscode-notebook-cell:Untitled-5.ipynb?jupyter-notebook#W2sdW50aXRsZWQ%3D?line=9'>10</a>\u001b[0m \u001b[39m# Perform K-means clustering on the reduced data\u001b[39;00m\n",
      "File \u001b[1;32mc:\\Users\\ccrgo\\AppData\\Local\\Programs\\Python\\Python310\\lib\\site-packages\\sklearn\\decomposition\\_pca.py:382\u001b[0m, in \u001b[0;36mPCA.fit\u001b[1;34m(self, X, y)\u001b[0m\n\u001b[0;32m    365\u001b[0m \u001b[39mdef\u001b[39;00m \u001b[39mfit\u001b[39m(\u001b[39mself\u001b[39m, X, y\u001b[39m=\u001b[39m\u001b[39mNone\u001b[39;00m):\n\u001b[0;32m    366\u001b[0m     \u001b[39m\"\"\"Fit the model with X.\u001b[39;00m\n\u001b[0;32m    367\u001b[0m \n\u001b[0;32m    368\u001b[0m \u001b[39m    Parameters\u001b[39;00m\n\u001b[1;32m   (...)\u001b[0m\n\u001b[0;32m    380\u001b[0m \u001b[39m        Returns the instance itself.\u001b[39;00m\n\u001b[0;32m    381\u001b[0m \u001b[39m    \"\"\"\u001b[39;00m\n\u001b[1;32m--> 382\u001b[0m     \u001b[39mself\u001b[39;49m\u001b[39m.\u001b[39;49m_fit(X)\n\u001b[0;32m    383\u001b[0m     \u001b[39mreturn\u001b[39;00m \u001b[39mself\u001b[39m\n",
      "File \u001b[1;32mc:\\Users\\ccrgo\\AppData\\Local\\Programs\\Python\\Python310\\lib\\site-packages\\sklearn\\decomposition\\_pca.py:457\u001b[0m, in \u001b[0;36mPCA._fit\u001b[1;34m(self, X)\u001b[0m\n\u001b[0;32m    455\u001b[0m \u001b[39m# Call different fits for either full or truncated SVD\u001b[39;00m\n\u001b[0;32m    456\u001b[0m \u001b[39mif\u001b[39;00m \u001b[39mself\u001b[39m\u001b[39m.\u001b[39m_fit_svd_solver \u001b[39m==\u001b[39m \u001b[39m\"\u001b[39m\u001b[39mfull\u001b[39m\u001b[39m\"\u001b[39m:\n\u001b[1;32m--> 457\u001b[0m     \u001b[39mreturn\u001b[39;00m \u001b[39mself\u001b[39;49m\u001b[39m.\u001b[39;49m_fit_full(X, n_components)\n\u001b[0;32m    458\u001b[0m \u001b[39melif\u001b[39;00m \u001b[39mself\u001b[39m\u001b[39m.\u001b[39m_fit_svd_solver \u001b[39min\u001b[39;00m [\u001b[39m\"\u001b[39m\u001b[39marpack\u001b[39m\u001b[39m\"\u001b[39m, \u001b[39m\"\u001b[39m\u001b[39mrandomized\u001b[39m\u001b[39m\"\u001b[39m]:\n\u001b[0;32m    459\u001b[0m     \u001b[39mreturn\u001b[39;00m \u001b[39mself\u001b[39m\u001b[39m.\u001b[39m_fit_truncated(X, n_components, \u001b[39mself\u001b[39m\u001b[39m.\u001b[39m_fit_svd_solver)\n",
      "File \u001b[1;32mc:\\Users\\ccrgo\\AppData\\Local\\Programs\\Python\\Python310\\lib\\site-packages\\sklearn\\decomposition\\_pca.py:475\u001b[0m, in \u001b[0;36mPCA._fit_full\u001b[1;34m(self, X, n_components)\u001b[0m\n\u001b[0;32m    471\u001b[0m         \u001b[39mraise\u001b[39;00m \u001b[39mValueError\u001b[39;00m(\n\u001b[0;32m    472\u001b[0m             \u001b[39m\"\u001b[39m\u001b[39mn_components=\u001b[39m\u001b[39m'\u001b[39m\u001b[39mmle\u001b[39m\u001b[39m'\u001b[39m\u001b[39m is only supported if n_samples >= n_features\u001b[39m\u001b[39m\"\u001b[39m\n\u001b[0;32m    473\u001b[0m         )\n\u001b[0;32m    474\u001b[0m \u001b[39melif\u001b[39;00m \u001b[39mnot\u001b[39;00m \u001b[39m0\u001b[39m \u001b[39m<\u001b[39m\u001b[39m=\u001b[39m n_components \u001b[39m<\u001b[39m\u001b[39m=\u001b[39m \u001b[39mmin\u001b[39m(n_samples, n_features):\n\u001b[1;32m--> 475\u001b[0m     \u001b[39mraise\u001b[39;00m \u001b[39mValueError\u001b[39;00m(\n\u001b[0;32m    476\u001b[0m         \u001b[39m\"\u001b[39m\u001b[39mn_components=\u001b[39m\u001b[39m%r\u001b[39;00m\u001b[39m must be between 0 and \u001b[39m\u001b[39m\"\u001b[39m\n\u001b[0;32m    477\u001b[0m         \u001b[39m\"\u001b[39m\u001b[39mmin(n_samples, n_features)=\u001b[39m\u001b[39m%r\u001b[39;00m\u001b[39m with \u001b[39m\u001b[39m\"\u001b[39m\n\u001b[0;32m    478\u001b[0m         \u001b[39m\"\u001b[39m\u001b[39msvd_solver=\u001b[39m\u001b[39m'\u001b[39m\u001b[39mfull\u001b[39m\u001b[39m'\u001b[39m\u001b[39m\"\u001b[39m \u001b[39m%\u001b[39m (n_components, \u001b[39mmin\u001b[39m(n_samples, n_features))\n\u001b[0;32m    479\u001b[0m     )\n\u001b[0;32m    480\u001b[0m \u001b[39melif\u001b[39;00m n_components \u001b[39m>\u001b[39m\u001b[39m=\u001b[39m \u001b[39m1\u001b[39m:\n\u001b[0;32m    481\u001b[0m     \u001b[39mif\u001b[39;00m \u001b[39mnot\u001b[39;00m \u001b[39misinstance\u001b[39m(n_components, numbers\u001b[39m.\u001b[39mIntegral):\n",
      "\u001b[1;31mValueError\u001b[0m: n_components=-1 must be between 0 and min(n_samples, n_features)=3 with svd_solver='full'"
     ]
    }
   ],
   "source": [
    "\n",
    "\n",
    "def color_quantization(img, K):\n",
    "    # Reshape the image into a two-dimensional array\n",
    "    pixels = img.reshape(-1, 3)\n",
    "    \n",
    "    # Perform PCA to reduce the dimensionality of the image using the auto from the PCA model \n",
    "    pca = PCA(svd_solver = 'full')\n",
    "    pca.fit(pixels)\n",
    "    reduced_pixels = pca.transform(pixels)\n",
    "    \n",
    "    # Perform K-means clustering on the reduced data\n",
    "    criteria = (cv2.TERM_CRITERIA_EPS + cv2.TERM_CRITERIA_MAX_ITER, 100, 1.0)\n",
    "    flags = cv2.KMEANS_RANDOM_CENTERS\n",
    "    compactness, labels, centers = cv2.kmeans(reduced_pixels.astype(np.float32), K, None, criteria, 10, flags)\n",
    "\n",
    "    # Replace each pixel with its corresponding cluster center\n",
    "    quantized_pixels = centers[labels].reshape(img.shape).astype(np.uint8)\n",
    "    \n",
    "    return quantized_pixels\n",
    "\n",
    "# Load the image\n",
    "img = cv2.imread(\"C:/Users/ccrgo/Downloads/quantized_image.jpg\")\n",
    "\n",
    "\n",
    "out = color_quantization(img, 512)\n",
    "\n",
    "# Save the quantized image\n",
    "cv2.imwrite(\"C:/Users/ccrgo/Downloads/jejetl.jpg\", out)\n"
   ]
  }
 ],
 "metadata": {
  "kernelspec": {
   "display_name": "Python 3",
   "language": "python",
   "name": "python3"
  },
  "language_info": {
   "codemirror_mode": {
    "name": "ipython",
    "version": 3
   },
   "file_extension": ".py",
   "mimetype": "text/x-python",
   "name": "python",
   "nbconvert_exporter": "python",
   "pygments_lexer": "ipython3",
   "version": "3.10.2"
  },
  "orig_nbformat": 4,
  "vscode": {
   "interpreter": {
    "hash": "72933c3157e2c1221732fb8b3debc60aeaed22dae065090527122b5eb1842c1b"
   }
  }
 },
 "nbformat": 4,
 "nbformat_minor": 2
}
